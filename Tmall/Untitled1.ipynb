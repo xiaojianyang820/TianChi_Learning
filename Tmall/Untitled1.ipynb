{
 "cells": [
  {
   "cell_type": "markdown",
   "metadata": {},
   "source": [
    "## 建模部分\n",
    "这里我们直接使用catboost这种快捷工具来进行。"
   ]
  },
  {
   "cell_type": "code",
   "execution_count": 1,
   "metadata": {},
   "outputs": [],
   "source": [
    "from catboost import CatBoostClassifier\n",
    "import pandas as pd\n",
    "import numpy as np\n",
    "import pickle"
   ]
  },
  {
   "cell_type": "code",
   "execution_count": 2,
   "metadata": {},
   "outputs": [],
   "source": [
    "# 加载训练数据和测试数据\n",
    "with open('data/final_data.pk', 'rb') as f:\n",
    "    train_group_x, train_group_y, test_group_x, concat_feature_names = pickle.load(f)"
   ]
  },
  {
   "cell_type": "code",
   "execution_count": 3,
   "metadata": {},
   "outputs": [],
   "source": [
    "# 将特征组中的离散型特征挑选出来\n",
    "cate_columns = [i[0] for i in concat_feature_names if i[1] == 'i']\n",
    "# 将离散型特征进行类型转换\n",
    "for c in cate_columns:\n",
    "    train_group_x[c] = train_group_x[c].fillna(-1).astype(int)\n",
    "    test_group_x[c] = test_group_x[c].fillna(-1).astype(int)\n",
    "for c in cate_columns[2:]:\n",
    "    train_group_x = train_group_x.drop(c, axis=1)\n",
    "    test_group_x = test_group_x.drop(c, axis=1)"
   ]
  },
  {
   "cell_type": "code",
   "execution_count": 4,
   "metadata": {},
   "outputs": [],
   "source": [
    "cate_columns = cate_columns[:2]"
   ]
  },
  {
   "cell_type": "code",
   "execution_count": 5,
   "metadata": {},
   "outputs": [
    {
     "data": {
      "text/html": [
       "<div>\n",
       "<style scoped>\n",
       "    .dataframe tbody tr th:only-of-type {\n",
       "        vertical-align: middle;\n",
       "    }\n",
       "\n",
       "    .dataframe tbody tr th {\n",
       "        vertical-align: top;\n",
       "    }\n",
       "\n",
       "    .dataframe thead th {\n",
       "        text-align: right;\n",
       "    }\n",
       "</style>\n",
       "<table border=\"1\" class=\"dataframe\">\n",
       "  <thead>\n",
       "    <tr style=\"text-align: right;\">\n",
       "      <th></th>\n",
       "      <th>用户年龄</th>\n",
       "      <th>用户性别</th>\n",
       "      <th>用户点击数量</th>\n",
       "      <th>用户加购数量</th>\n",
       "      <th>用户购买数量</th>\n",
       "      <th>用户收藏数量</th>\n",
       "      <th>用户点击转化率</th>\n",
       "      <th>用户加购转化率</th>\n",
       "      <th>用户收藏转化率</th>\n",
       "      <th>用户周计数活跃数量-0</th>\n",
       "      <th>...</th>\n",
       "      <th>交互-双11购买总数</th>\n",
       "      <th>交互-双11收藏总数</th>\n",
       "      <th>交互-商品数量</th>\n",
       "      <th>交互-品类数量</th>\n",
       "      <th>交互-品牌数量</th>\n",
       "      <th>交互-品类重叠系数</th>\n",
       "      <th>交互-品牌重叠系数</th>\n",
       "      <th>交互-购买主品类标签</th>\n",
       "      <th>交互-购买主品牌标签</th>\n",
       "      <th>交互-初始交互时间差</th>\n",
       "    </tr>\n",
       "  </thead>\n",
       "  <tbody>\n",
       "    <tr>\n",
       "      <th>0</th>\n",
       "      <td>6</td>\n",
       "      <td>0</td>\n",
       "      <td>410.0</td>\n",
       "      <td>0.0</td>\n",
       "      <td>34.0</td>\n",
       "      <td>7.0</td>\n",
       "      <td>12.058824</td>\n",
       "      <td>0.0</td>\n",
       "      <td>0.205882</td>\n",
       "      <td>38.0</td>\n",
       "      <td>...</td>\n",
       "      <td>1.0</td>\n",
       "      <td>0.0</td>\n",
       "      <td>20.0</td>\n",
       "      <td>6.0</td>\n",
       "      <td>1.0</td>\n",
       "      <td>0.333333</td>\n",
       "      <td>0.050000</td>\n",
       "      <td>1.0</td>\n",
       "      <td>1.0</td>\n",
       "      <td>2.0</td>\n",
       "    </tr>\n",
       "    <tr>\n",
       "      <th>1</th>\n",
       "      <td>6</td>\n",
       "      <td>0</td>\n",
       "      <td>410.0</td>\n",
       "      <td>0.0</td>\n",
       "      <td>34.0</td>\n",
       "      <td>7.0</td>\n",
       "      <td>12.058824</td>\n",
       "      <td>0.0</td>\n",
       "      <td>0.205882</td>\n",
       "      <td>38.0</td>\n",
       "      <td>...</td>\n",
       "      <td>1.0</td>\n",
       "      <td>0.0</td>\n",
       "      <td>1.0</td>\n",
       "      <td>1.0</td>\n",
       "      <td>1.0</td>\n",
       "      <td>0.069767</td>\n",
       "      <td>0.050000</td>\n",
       "      <td>1.0</td>\n",
       "      <td>1.0</td>\n",
       "      <td>2.0</td>\n",
       "    </tr>\n",
       "    <tr>\n",
       "      <th>2</th>\n",
       "      <td>6</td>\n",
       "      <td>0</td>\n",
       "      <td>410.0</td>\n",
       "      <td>0.0</td>\n",
       "      <td>34.0</td>\n",
       "      <td>7.0</td>\n",
       "      <td>12.058824</td>\n",
       "      <td>0.0</td>\n",
       "      <td>0.205882</td>\n",
       "      <td>38.0</td>\n",
       "      <td>...</td>\n",
       "      <td>6.0</td>\n",
       "      <td>0.0</td>\n",
       "      <td>2.0</td>\n",
       "      <td>1.0</td>\n",
       "      <td>1.0</td>\n",
       "      <td>0.129032</td>\n",
       "      <td>0.050000</td>\n",
       "      <td>1.0</td>\n",
       "      <td>1.0</td>\n",
       "      <td>2.0</td>\n",
       "    </tr>\n",
       "    <tr>\n",
       "      <th>3</th>\n",
       "      <td>6</td>\n",
       "      <td>0</td>\n",
       "      <td>410.0</td>\n",
       "      <td>0.0</td>\n",
       "      <td>34.0</td>\n",
       "      <td>7.0</td>\n",
       "      <td>12.058824</td>\n",
       "      <td>0.0</td>\n",
       "      <td>0.205882</td>\n",
       "      <td>38.0</td>\n",
       "      <td>...</td>\n",
       "      <td>1.0</td>\n",
       "      <td>0.0</td>\n",
       "      <td>1.0</td>\n",
       "      <td>1.0</td>\n",
       "      <td>1.0</td>\n",
       "      <td>0.136364</td>\n",
       "      <td>0.000000</td>\n",
       "      <td>1.0</td>\n",
       "      <td>0.0</td>\n",
       "      <td>1.0</td>\n",
       "    </tr>\n",
       "    <tr>\n",
       "      <th>4</th>\n",
       "      <td>0</td>\n",
       "      <td>0</td>\n",
       "      <td>47.0</td>\n",
       "      <td>0.0</td>\n",
       "      <td>7.0</td>\n",
       "      <td>0.0</td>\n",
       "      <td>6.714286</td>\n",
       "      <td>0.0</td>\n",
       "      <td>0.000000</td>\n",
       "      <td>10.0</td>\n",
       "      <td>...</td>\n",
       "      <td>1.0</td>\n",
       "      <td>0.0</td>\n",
       "      <td>1.0</td>\n",
       "      <td>1.0</td>\n",
       "      <td>1.0</td>\n",
       "      <td>0.257143</td>\n",
       "      <td>0.052632</td>\n",
       "      <td>1.0</td>\n",
       "      <td>1.0</td>\n",
       "      <td>1.0</td>\n",
       "    </tr>\n",
       "  </tbody>\n",
       "</table>\n",
       "<p>5 rows × 138 columns</p>\n",
       "</div>"
      ],
      "text/plain": [
       "   用户年龄  用户性别  用户点击数量  用户加购数量  用户购买数量  用户收藏数量    用户点击转化率  用户加购转化率   用户收藏转化率  \\\n",
       "0     6     0   410.0     0.0    34.0     7.0  12.058824      0.0  0.205882   \n",
       "1     6     0   410.0     0.0    34.0     7.0  12.058824      0.0  0.205882   \n",
       "2     6     0   410.0     0.0    34.0     7.0  12.058824      0.0  0.205882   \n",
       "3     6     0   410.0     0.0    34.0     7.0  12.058824      0.0  0.205882   \n",
       "4     0     0    47.0     0.0     7.0     0.0   6.714286      0.0  0.000000   \n",
       "\n",
       "   用户周计数活跃数量-0  ...  交互-双11购买总数  交互-双11收藏总数  交互-商品数量  交互-品类数量  交互-品牌数量  \\\n",
       "0         38.0  ...         1.0         0.0     20.0      6.0      1.0   \n",
       "1         38.0  ...         1.0         0.0      1.0      1.0      1.0   \n",
       "2         38.0  ...         6.0         0.0      2.0      1.0      1.0   \n",
       "3         38.0  ...         1.0         0.0      1.0      1.0      1.0   \n",
       "4         10.0  ...         1.0         0.0      1.0      1.0      1.0   \n",
       "\n",
       "   交互-品类重叠系数  交互-品牌重叠系数  交互-购买主品类标签  交互-购买主品牌标签  交互-初始交互时间差  \n",
       "0   0.333333   0.050000         1.0         1.0         2.0  \n",
       "1   0.069767   0.050000         1.0         1.0         2.0  \n",
       "2   0.129032   0.050000         1.0         1.0         2.0  \n",
       "3   0.136364   0.000000         1.0         0.0         1.0  \n",
       "4   0.257143   0.052632         1.0         1.0         1.0  \n",
       "\n",
       "[5 rows x 138 columns]"
      ]
     },
     "execution_count": 5,
     "metadata": {},
     "output_type": "execute_result"
    }
   ],
   "source": [
    "train_group_x.head()"
   ]
  },
  {
   "cell_type": "code",
   "execution_count": 6,
   "metadata": {},
   "outputs": [
    {
     "data": {
      "text/html": [
       "<div>\n",
       "<style scoped>\n",
       "    .dataframe tbody tr th:only-of-type {\n",
       "        vertical-align: middle;\n",
       "    }\n",
       "\n",
       "    .dataframe tbody tr th {\n",
       "        vertical-align: top;\n",
       "    }\n",
       "\n",
       "    .dataframe thead th {\n",
       "        text-align: right;\n",
       "    }\n",
       "</style>\n",
       "<table border=\"1\" class=\"dataframe\">\n",
       "  <thead>\n",
       "    <tr style=\"text-align: right;\">\n",
       "      <th></th>\n",
       "      <th>用户年龄</th>\n",
       "      <th>用户性别</th>\n",
       "      <th>用户点击数量</th>\n",
       "      <th>用户加购数量</th>\n",
       "      <th>用户购买数量</th>\n",
       "      <th>用户收藏数量</th>\n",
       "      <th>用户点击转化率</th>\n",
       "      <th>用户加购转化率</th>\n",
       "      <th>用户收藏转化率</th>\n",
       "      <th>用户周计数活跃数量-0</th>\n",
       "      <th>...</th>\n",
       "      <th>交互-双11购买总数</th>\n",
       "      <th>交互-双11收藏总数</th>\n",
       "      <th>交互-商品数量</th>\n",
       "      <th>交互-品类数量</th>\n",
       "      <th>交互-品牌数量</th>\n",
       "      <th>交互-品类重叠系数</th>\n",
       "      <th>交互-品牌重叠系数</th>\n",
       "      <th>交互-购买主品类标签</th>\n",
       "      <th>交互-购买主品牌标签</th>\n",
       "      <th>交互-初始交互时间差</th>\n",
       "    </tr>\n",
       "  </thead>\n",
       "  <tbody>\n",
       "    <tr>\n",
       "      <th>0</th>\n",
       "      <td>0</td>\n",
       "      <td>0</td>\n",
       "      <td>63.0</td>\n",
       "      <td>0.0</td>\n",
       "      <td>16.0</td>\n",
       "      <td>2.0</td>\n",
       "      <td>3.937500</td>\n",
       "      <td>0.0</td>\n",
       "      <td>0.125</td>\n",
       "      <td>11.0</td>\n",
       "      <td>...</td>\n",
       "      <td>1.0</td>\n",
       "      <td>0.0</td>\n",
       "      <td>1.0</td>\n",
       "      <td>1.0</td>\n",
       "      <td>1.0</td>\n",
       "      <td>0.136364</td>\n",
       "      <td>0.05</td>\n",
       "      <td>1.0</td>\n",
       "      <td>1.0</td>\n",
       "      <td>1.0</td>\n",
       "    </tr>\n",
       "    <tr>\n",
       "      <th>1</th>\n",
       "      <td>2</td>\n",
       "      <td>2</td>\n",
       "      <td>71.0</td>\n",
       "      <td>0.0</td>\n",
       "      <td>6.0</td>\n",
       "      <td>0.0</td>\n",
       "      <td>11.833333</td>\n",
       "      <td>0.0</td>\n",
       "      <td>0.000</td>\n",
       "      <td>0.0</td>\n",
       "      <td>...</td>\n",
       "      <td>5.0</td>\n",
       "      <td>0.0</td>\n",
       "      <td>9.0</td>\n",
       "      <td>4.0</td>\n",
       "      <td>1.0</td>\n",
       "      <td>0.166667</td>\n",
       "      <td>0.05</td>\n",
       "      <td>1.0</td>\n",
       "      <td>1.0</td>\n",
       "      <td>1.0</td>\n",
       "    </tr>\n",
       "    <tr>\n",
       "      <th>2</th>\n",
       "      <td>6</td>\n",
       "      <td>0</td>\n",
       "      <td>51.0</td>\n",
       "      <td>0.0</td>\n",
       "      <td>5.0</td>\n",
       "      <td>0.0</td>\n",
       "      <td>10.200000</td>\n",
       "      <td>0.0</td>\n",
       "      <td>0.000</td>\n",
       "      <td>8.0</td>\n",
       "      <td>...</td>\n",
       "      <td>1.0</td>\n",
       "      <td>0.0</td>\n",
       "      <td>1.0</td>\n",
       "      <td>1.0</td>\n",
       "      <td>1.0</td>\n",
       "      <td>0.025641</td>\n",
       "      <td>0.05</td>\n",
       "      <td>1.0</td>\n",
       "      <td>1.0</td>\n",
       "      <td>1.0</td>\n",
       "    </tr>\n",
       "    <tr>\n",
       "      <th>3</th>\n",
       "      <td>6</td>\n",
       "      <td>0</td>\n",
       "      <td>51.0</td>\n",
       "      <td>0.0</td>\n",
       "      <td>5.0</td>\n",
       "      <td>0.0</td>\n",
       "      <td>10.200000</td>\n",
       "      <td>0.0</td>\n",
       "      <td>0.000</td>\n",
       "      <td>8.0</td>\n",
       "      <td>...</td>\n",
       "      <td>1.0</td>\n",
       "      <td>0.0</td>\n",
       "      <td>1.0</td>\n",
       "      <td>1.0</td>\n",
       "      <td>1.0</td>\n",
       "      <td>0.147059</td>\n",
       "      <td>0.05</td>\n",
       "      <td>1.0</td>\n",
       "      <td>1.0</td>\n",
       "      <td>1.0</td>\n",
       "    </tr>\n",
       "    <tr>\n",
       "      <th>4</th>\n",
       "      <td>2</td>\n",
       "      <td>1</td>\n",
       "      <td>162.0</td>\n",
       "      <td>0.0</td>\n",
       "      <td>7.0</td>\n",
       "      <td>7.0</td>\n",
       "      <td>23.142857</td>\n",
       "      <td>0.0</td>\n",
       "      <td>1.000</td>\n",
       "      <td>27.0</td>\n",
       "      <td>...</td>\n",
       "      <td>1.0</td>\n",
       "      <td>0.0</td>\n",
       "      <td>8.0</td>\n",
       "      <td>4.0</td>\n",
       "      <td>2.0</td>\n",
       "      <td>0.064516</td>\n",
       "      <td>0.10</td>\n",
       "      <td>1.0</td>\n",
       "      <td>1.0</td>\n",
       "      <td>1.0</td>\n",
       "    </tr>\n",
       "  </tbody>\n",
       "</table>\n",
       "<p>5 rows × 138 columns</p>\n",
       "</div>"
      ],
      "text/plain": [
       "   用户年龄  用户性别  用户点击数量  用户加购数量  用户购买数量  用户收藏数量    用户点击转化率  用户加购转化率  用户收藏转化率  \\\n",
       "0     0     0    63.0     0.0    16.0     2.0   3.937500      0.0    0.125   \n",
       "1     2     2    71.0     0.0     6.0     0.0  11.833333      0.0    0.000   \n",
       "2     6     0    51.0     0.0     5.0     0.0  10.200000      0.0    0.000   \n",
       "3     6     0    51.0     0.0     5.0     0.0  10.200000      0.0    0.000   \n",
       "4     2     1   162.0     0.0     7.0     7.0  23.142857      0.0    1.000   \n",
       "\n",
       "   用户周计数活跃数量-0  ...  交互-双11购买总数  交互-双11收藏总数  交互-商品数量  交互-品类数量  交互-品牌数量  \\\n",
       "0         11.0  ...         1.0         0.0      1.0      1.0      1.0   \n",
       "1          0.0  ...         5.0         0.0      9.0      4.0      1.0   \n",
       "2          8.0  ...         1.0         0.0      1.0      1.0      1.0   \n",
       "3          8.0  ...         1.0         0.0      1.0      1.0      1.0   \n",
       "4         27.0  ...         1.0         0.0      8.0      4.0      2.0   \n",
       "\n",
       "   交互-品类重叠系数  交互-品牌重叠系数  交互-购买主品类标签  交互-购买主品牌标签  交互-初始交互时间差  \n",
       "0   0.136364       0.05         1.0         1.0         1.0  \n",
       "1   0.166667       0.05         1.0         1.0         1.0  \n",
       "2   0.025641       0.05         1.0         1.0         1.0  \n",
       "3   0.147059       0.05         1.0         1.0         1.0  \n",
       "4   0.064516       0.10         1.0         1.0         1.0  \n",
       "\n",
       "[5 rows x 138 columns]"
      ]
     },
     "execution_count": 6,
     "metadata": {},
     "output_type": "execute_result"
    }
   ],
   "source": [
    "test_group_x.head()"
   ]
  },
  {
   "cell_type": "code",
   "execution_count": 7,
   "metadata": {},
   "outputs": [
    {
     "data": {
      "text/plain": [
       "0    0\n",
       "1    0\n",
       "2    1\n",
       "3    0\n",
       "4    0\n",
       "Name: label, dtype: int64"
      ]
     },
     "execution_count": 7,
     "metadata": {},
     "output_type": "execute_result"
    }
   ],
   "source": [
    "train_group_y.head()"
   ]
  },
  {
   "cell_type": "code",
   "execution_count": 15,
   "metadata": {},
   "outputs": [
    {
     "name": "stdout",
     "output_type": "stream",
     "text": [
      "0:\ttest: 0.6325252\tbest: 0.6325252 (0)\ttotal: 7.69s\tremaining: 2h 7m 59s\n",
      "10:\ttest: 0.6958505\tbest: 0.6958505 (10)\ttotal: 1m 22s\tremaining: 2h 3m 57s\n",
      "20:\ttest: 0.6995095\tbest: 0.6997988 (19)\ttotal: 2m 18s\tremaining: 1h 47m 55s\n",
      "30:\ttest: 0.7024042\tbest: 0.7026087 (28)\ttotal: 3m 19s\tremaining: 1h 44m 5s\n",
      "Stopped by overfitting detector  (5 iterations wait)\n",
      "\n",
      "bestTest = 0.7026086636\n",
      "bestIteration = 28\n",
      "\n",
      "Shrink model to first 29 iterations.\n"
     ]
    },
    {
     "data": {
      "text/plain": [
       "<catboost.core.CatBoostClassifier at 0x1b64f9ede48>"
      ]
     },
     "execution_count": 15,
     "metadata": {},
     "output_type": "execute_result"
    }
   ],
   "source": [
    "from sklearn.model_selection import train_test_split\n",
    "# 进行训练集和验证集的拆分\n",
    "x_to_train, x_to_valid, y_to_train, y_to_valid = train_test_split(train_group_x, train_group_y, test_size=0.1, random_state=502)\n",
    "\n",
    "# 构建CatBoost分类器\n",
    "cb_params = {\n",
    "        'iterations': 1000,\n",
    "        'loss_function': 'CrossEntropy',\n",
    "        'eval_metric': 'AUC',\n",
    "        'learning_rate': 0.01,\n",
    "        'depth': 15,\n",
    "        'use_best_model': True,\n",
    "        'subsample': 0.7,\n",
    "        'bootstrap_type': 'Bernoulli',\n",
    "        'reg_lambda': 1,\n",
    "        #'task_type': \"GPU\",\n",
    "        #'devices': '0:1',\n",
    "        'cat_features': cate_columns\n",
    "    }\n",
    "cat_model = CatBoostClassifier(**cb_params)\n",
    "cat_model.fit(x_to_train, y_to_train, eval_set=(x_to_valid, y_to_valid), early_stopping_rounds=5, verbose=10)"
   ]
  },
  {
   "cell_type": "markdown",
   "metadata": {},
   "source": [
    "## 在Python中如何通过一个字典来传递参数"
   ]
  },
  {
   "cell_type": "code",
   "execution_count": 12,
   "metadata": {},
   "outputs": [],
   "source": [
    "# 首先定义一个函数\n",
    "def func(a, b, c=3, d=4):\n",
    "    print(a)\n",
    "    print(b)\n",
    "    print(c)\n",
    "    print(d)"
   ]
  },
  {
   "cell_type": "markdown",
   "metadata": {},
   "source": [
    "以上面这个函数为例，它有两类参数，第一类是没有默认值的参数即a,b，第二类是有默认值的参数c,d。基本要求是这样的，无默认值的参数在调用该函数时必须给这些参数赋值，而有默认值的参数在调用该函数的时候可以不给它赋值，这样它就会使用默认值。在构造函数的时候，无默认值的参数必须放置在有默认值参数的前面。在传递参数时，也有两种基本的方法，第一种是按顺序传参。即如下："
   ]
  },
  {
   "cell_type": "code",
   "execution_count": 13,
   "metadata": {},
   "outputs": [
    {
     "name": "stdout",
     "output_type": "stream",
     "text": [
      "aaa\n",
      "bbb\n",
      "ccc\n",
      "ddd\n"
     ]
    }
   ],
   "source": [
    "func('aaa', 'bbb', 'ccc', 'ddd')"
   ]
  },
  {
   "cell_type": "markdown",
   "metadata": {},
   "source": [
    "函数解析的时候会按照顺序和定义的参数进行匹配。当然对于有默认值的参数可以不传参，例如："
   ]
  },
  {
   "cell_type": "code",
   "execution_count": 14,
   "metadata": {},
   "outputs": [
    {
     "name": "stdout",
     "output_type": "stream",
     "text": [
      "aaa\n",
      "bbb\n",
      "ccc\n",
      "4\n"
     ]
    }
   ],
   "source": [
    "func('aaa', 'bbb', 'ccc')"
   ]
  },
  {
   "cell_type": "raw",
   "metadata": {},
   "source": [
    "第二种传参方法是按名称传参。即传入参数的时候要指名给哪一个参数赋值，比如："
   ]
  },
  {
   "cell_type": "code",
   "execution_count": 16,
   "metadata": {},
   "outputs": [
    {
     "name": "stdout",
     "output_type": "stream",
     "text": [
      "aaa\n",
      "bbb\n",
      "ccc\n",
      "4\n"
     ]
    }
   ],
   "source": [
    "func(a='aaa', b='bbb', c='ccc')"
   ]
  },
  {
   "cell_type": "markdown",
   "metadata": {},
   "source": [
    "这两种传参方法是可以混合使用的，你先写按位置传参的参数，再写按名称传参的参数，比如："
   ]
  },
  {
   "cell_type": "code",
   "execution_count": 17,
   "metadata": {},
   "outputs": [
    {
     "name": "stdout",
     "output_type": "stream",
     "text": [
      "aaa\n",
      "bbb\n",
      "3\n",
      "ddd\n"
     ]
    }
   ],
   "source": [
    "func('aaa', b='bbb', d='ddd')"
   ]
  },
  {
   "cell_type": "markdown",
   "metadata": {},
   "source": [
    "按名称传参有一个特殊的写法，就是先把这些参数构成一个字典，然后把这个字典传递给函数，函数就会按照这个字典里面的配置去对参数进行设置，比如："
   ]
  },
  {
   "cell_type": "code",
   "execution_count": 20,
   "metadata": {},
   "outputs": [
    {
     "name": "stdout",
     "output_type": "stream",
     "text": [
      "aaaa\n",
      "bbbb\n",
      "3\n",
      "dddd\n"
     ]
    }
   ],
   "source": [
    "params = {'a':'aaaa', 'b':'bbbb', 'd':'dddd'}\n",
    "func(**params)"
   ]
  },
  {
   "cell_type": "markdown",
   "metadata": {},
   "source": [
    "这里需要使用一个特殊的符号\\**来标记，这个符号叫做解包操作，也就是把这个字典打开，里面的东西都散出来的意思。这个解包操作也可以和普通的传参方法相结合，即"
   ]
  },
  {
   "cell_type": "code",
   "execution_count": 21,
   "metadata": {},
   "outputs": [
    {
     "name": "stdout",
     "output_type": "stream",
     "text": [
      "aaaa\n",
      "bbbb\n",
      "cccc\n",
      "dddd\n"
     ]
    }
   ],
   "source": [
    "params = {'b': 'bbbb', 'd': 'dddd'}\n",
    "func('aaaa', c='cccc', **params)"
   ]
  },
  {
   "cell_type": "markdown",
   "metadata": {},
   "source": [
    "不过解包操作都有放在传参的最后一项。对字典的解包操作对应于按名称传参，而按位置传参也有一种解包写法，即把一个列表或者元组拆开，按位置填写到函数的不同参数上，即："
   ]
  },
  {
   "cell_type": "code",
   "execution_count": 22,
   "metadata": {},
   "outputs": [
    {
     "name": "stdout",
     "output_type": "stream",
     "text": [
      "aaa\n",
      "bbb\n",
      "ccc\n",
      "ddd\n"
     ]
    }
   ],
   "source": [
    "params = ('aaa', 'bbb', 'ccc', 'ddd')\n",
    "func(*params)"
   ]
  },
  {
   "cell_type": "markdown",
   "metadata": {},
   "source": [
    "Python中进行这种参数解包操作的实际目的是为了让参数配置和代码本身分离。你可以把参数配置写到一个外部的txt文件中，到时候让程序去识别这个参数的txt文件，然后填写到函数中。这样，你不需要改代码，就可以更改一些pei"
   ]
  }
 ],
 "metadata": {
  "kernelspec": {
   "display_name": "Python 3",
   "language": "python",
   "name": "python3"
  },
  "language_info": {
   "codemirror_mode": {
    "name": "ipython",
    "version": 3
   },
   "file_extension": ".py",
   "mimetype": "text/x-python",
   "name": "python",
   "nbconvert_exporter": "python",
   "pygments_lexer": "ipython3",
   "version": "3.6.4"
  }
 },
 "nbformat": 4,
 "nbformat_minor": 2
}
