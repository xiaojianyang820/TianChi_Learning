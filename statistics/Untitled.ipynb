{
 "cells": [
  {
   "cell_type": "markdown",
   "metadata": {},
   "source": [
    "# 第五章 背景\n",
    "\n",
    "本章简要介绍数据统计分析的主要概念。它定义了离散和连续的概率分布，然后概述了各种类型的研究设计。\n",
    "\n",
    "## 总体，样本与统计推断\n",
    "在对数据的统计分析中，我们通常使用一些被挑选出来的样本，基于这些样本上的一些计算结果，来猜测该样本背后所代表的那个总体的某些统计指标。所以样本最为重要的衡量标准就是它能够有效代表总体。\n",
    "\n",
    "- **总体**：包含数据集中的所有元素\n",
    "- **样本**：由总体中的一个或者多个观测值构成\n",
    "\n",
    "一个总体是可能产生很多个不同的样本的。\n",
    "\n",
    "比如当需要估计出全欧洲男性的平均身高时，显然不可能测量每一个人的身高，最具有可行性的方法就是挑选欧洲不同国家10000个成年男性作为样本来测量身高。在这一问题中，全欧洲成年男性就是**总体**，而随机挑选的1万个成年男性就是**样本**。我们使用样本的平均值去估计总体的平均值，这里的平均值对于总体而言我们称其为**待估参数**，而样本计算出来的平均值我们称之为**统计量**。这么区分的原因在于，总体的平均值是确定的，不发生变化的，只不过我们不知道而已。但是样本的平均值取决于具体的抽样结果，每一次不同的抽样结果，得到的平均数都会有所差异，所以样本上的平均值是一个随机变量，不过是一类特殊的随机变量，这一类随机变量是由于抽样的偏差影响统计结果所形成的，所以我们就给它一个专有名词，叫做**统计量**。\n",
    "\n",
    "- **待估参数**：总体的某一项特征，确定但未知\n",
    "- **统计量**：某一样本上的计算结果，不确定但已知，是一类特殊的随机变量\n",
    "- **抽样分布**：统计量所服从的概率分布\n",
    "- **统计推断**：基于样本所计算出的统计量对总体的待估参数进行有根据的估计\n",
    "\n",
    "统计推断需要进一步讲解一个案例。以测量身高为例，比如样本的统计量为1.78米，那么就可以根据抽样分布的特性，给出对待估参数的估计结果，即全欧洲平均身高有95%的把握处于1.76米到1.80米之间。这就是一个统计推断过程，这里涉及到如何产生有代表性的样本，如何计算出样本上的某一个统计量，如何估计出该统计量的抽样分布，如何基于抽样分布对待估参数给出特定显著性水平下的估计结果。\n",
    "\n",
    "## 概率分布\n",
    "概率分布是描述总体和样本中数值分布的数学工具。可以分为两大类，即：\n",
    "\n",
    "- **离散分布**：随机变量的取值只可能是孤立的几个数值点\n",
    "- **连续分布**：随机变量的取值可能是在一个范围内的全部实数值\n",
    "\n",
    "### 期望值和方差\n",
    "期望值$E[X]$在概念上等同于均值，它在连续型随机变量上的计算公式为：\n",
    "$$\n",
    "    E[X] = \\int_{\\infty}^{\\infty}xf(x)dx\n",
    "$$\n",
    "即某一取值与该取值出现概率相乘之后进行积分运算。而在离散型随机变量上的计算公式为：\n",
    "$$\n",
    "    E[x] = \\sum_i^N x_i P_i\n",
    "$$\n",
    "即某一取值与该取值出现概率相乘之后进行加总运算。\n",
    "\n",
    "方差刻画了随机变量或者数据的波动性，计算公式也比较简单，即\n",
    "$$\n",
    "    Var(X) = E[(X-E[X])^2]=E[X^2]-(E[X])^2\n",
    "$$\n",
    "即平方值的期望减去期望的平方值。\n",
    "\n",
    "## 自由度\n",
    "自由度（degree of freedom，DOF）的概念在力学领域中似乎是非常清楚的，但是在统计学应用中较难掌握。\n",
    "\n",
    "在力学中，在一个平面上运动的粒子有“2个自由度”：在每一个时间点，可以使用两个参数($x,y$坐标)来定义粒子的位置。如果粒子在空间中移动，那么它就有了三个自由度，即$x,y,z$坐标。\n",
    "\n",
    "推而广之，在统计学中，具有n个数值的一组数据有n个自由度。如果计算出这一组数据的均值，然后该组数据中的每一个元素都减去均值，得到的这一组数据就只有n-1个自由度啦。这是因为在已知均值的情况下，根据n-1个数值，就一定可以计算出剩余的一个数值，这样就有一个数值不自由啦，统计学上称之为丢失了一个自由度。\n",
    "\n",
    "当我们要对数据进行分组对比时，情况就稍微复杂一点。例如，将一组病人分位三个小组，并计算出了各小组的平均值，那么就会丢失三个自由度。\n",
    "\n",
    "自由度是衡量统计量抽样分布的重要指标，不同的自由度下估计出来的统计量所服从的抽样分布有较大的差异。一般来说，同一样本数下，自由度越低，统计量的波动性就越小。这一结论是很容易理解的，因为样本被限定，不能自由波动，计算出的结果也就相对固定了。\n",
    "\n",
    "## 研究设计\n",
    "研究设计又被称为统计试验设计。研究设计是指在开始抽样之前，就必须预先设定好整个统计分析的过程。这一预先设计是非常重要的，它可以保证统计人员不会被偶然的数据现象所吸引而得出错误的结论。进行统计试验设计，就可以提前根据数学理论进行预估，而不是关注于各种偶然事件。\n",
    "\n",
    "2000年之后美国法律规定研究人员在开始收集数据之前必须记录并提交他们的试验方法和结果指标。在这一强制规定执行之前，在评估药物或者膳食补充剂对于治疗心血管疾病的研究中，57%的研究显示出阳性的结果，即有效的比例为57%，但是在执行这一强制规定之后，有效的比例就大幅下降至8%了。这一案例强有力地说明了统计试验设计对于得出可靠的统计分析结果是非常重要的，可以避免很多假阳性的问题。\n",
    "\n",
    "### 术语\n",
    "- 主要特征：指对结果会产生重要影响，同时在本次试验中进行了控制或者观测的因素\n",
    "- 噪音特征：指对结果的影响较小，难以观测与控制，数量又特别多的因素\n",
    "\n",
    "比如，影响一个人年收入的主要特征包括，年龄，学历，城市，性别，职业等，而噪音特征包括身高，爱好，口味，服装等等次要因素。\n",
    "\n",
    "在统计学中，我们通常会把目标和特征之间的函数关系记为如下形式：\n",
    "$$\n",
    "    Y=\\beta_0 + \\beta_1 X_1 + \\beta_2 X_2 + \\beta_{12}X_1X_2 + \\epsilon\n",
    "$$\n",
    "在上述数学模型中，$Y$是目标量或者因变量，$X_1,X_2,X_1X_2$是特征或者自变量，$\\beta_1, \\beta_2, \\beta_{12}$是系数，$\\epsilon$是模型拟合的残差，也就是目标量中不能够被该数学模型所解释的剩余部分。如果该模型比较正确地刻画了变量之间的关系，那么残差就应该对称分布于0值附近，呈现出正态分布的形式。\n",
    "\n",
    "在上述数学模型中，像$\\beta_1 X_1$这种只有一个特征的项，被称为主效应项，而如$\\beta_{12}X_1X_2$这种多个特征汇合在一起的项，被称为交互项。从名字上也比较容易理解，所谓的主效应项，就是该特征能够独立地对目标量所产生的影响，而交互项，就是多个特征一起对目标量所产生的影响。\n",
    "\n",
    "这种结构的模型通常被称为线性模型。尽管它里面含有乘积项，但是对于三个系数而言，都是一阶的，我们所需要求解的也是三个系数，所以，它被称为线性模型。\n",
    "\n",
    "### 概述\n",
    "研究设计的第一步是明确说明研究的目标。我们可能会有如下四种目标：\n",
    "1. 比较两个组或者多个组，或一个组与某一个固定值对比，即**假设检验**\n",
    "2. 筛选所观察到的反应以确定重要的因素或效应，即**变量选择**\n",
    "3. 最大化或最小化响应（变异性，离目标的距离，稳健性等），即**最优化**\n",
    "4. 建立一个回归模型来量化响应变量对输入过程的依赖性，即**统计建模**\n",
    "\n",
    "一旦确定了想做什么，我们就必须决定如何做这件事。可以通过受控试验或观测获得必要的数据。在受控试验中，我们通常只改变单个参数，并研究该参数对输出的影响。\n",
    "\n",
    "### 研究类型\n",
    "1. 观察性或实验性\n",
    "在观察性研究中，研究者只收集信息，但不与研究人群互动。相反，在实验研究中，研究人员有意地影响事件，并调查这些干预措施的效果。\n",
    "\n",
    "2. 前瞻性或者回顾性\n",
    "在前瞻性研究中，数据是从研究开始收集的。相反，回顾性研究是从以前的事件中获得的数据。\n",
    "\n",
    "3. 纵向或横截面\n",
    "在纵向调查中，研究者在一段时间内收集信息，数据沿着时间排布；在横截面调查中，数据是同一时间点上对很多样本的观测结果\n",
    "\n",
    "4. 病例对照和队列研究\n",
    "在病例对照研究中，首先对患者进行治疗，然后根据一定的标准选择他们纳入研究。相反，在一项队列研究中，首先选择感兴趣的受试者，然后对这些受试者进行一段时间的研究。\n",
    "\n",
    "5. 随机对照试验\n",
    "将受试者分为实验组和对照组。在一个试验中，可能会考虑多个影响因素，实验组与对照组通常只在某一个因素上存在差异，在遵守这一原则的基础上，尽可能做到随机分配。\n",
    "\n",
    "6. 交叉研究\n",
    "随机化的另一种方法是交叉设计的研究。交叉研究是一种纵向研究，受试者接受一系列不同的处理。每一个个体都接受每一个处理。为了避免因果的影响，处理分配的顺序应该是随机的。\n",
    "\n",
    "比如在一项调查中，测试站姿和坐姿对受试者集中精神的影响，每一个受试者分别在站姿和坐姿下执行任务。坐姿和站姿的顺序是随机的，以消除任何序列效应。\n",
    "\n",
    "### 实验设计\n",
    "最高原则就是：按照某一指标分组后，其他方面充分随机化。\n",
    "\n",
    "上文我们提到，我们有一些因素是不能够完全控制的，这些因素又会影响实验结果。比如在某一个实验中，实验人员的操作水平是影响结果的重要因素，实验的操作时间也会影响实验结果，那么我们就可以固定只使用一个实验人员，然后对每一组试验随机挑选一个时间进行操作。这代表了两种消除不可控因素影响的方法，第一是固定不可控因素；第二是通过大量随机来平均化不可控因素的影响。\n",
    "\n",
    "#### 1. 样本选择\n",
    "当选择个体的时候，你应该注意下面3点。\n",
    "（1）样本应该能够代替研究的群体。\n",
    "（2）在比较性研究中，组之间必须在已知的变异来源方面相似。比如你想对比不同学历对于收入的影响，那么学历是要比较的因素，根据学历进行分组，但是例如年龄，性别这种因素在组之间要尽量相似，不能够出现大学学历组的都是40岁以上的，而研究所学历组中都是30岁左右的。\n",
    "（3）确保您选择的样本能够充分覆盖了您所需的所有参数！比如，你想对比不同学历对于收入的影响时，你选择的样本应该覆盖20多岁，30多岁一直到60多岁的各个年龄段，否则不具有完全的代表性。\n",
    "\n",
    "#### 2. 样本量\n",
    "当样本量过小时，随机性太大，无法判断观测到的现象是否具有普适性。而样本量过大又会带来成本过高，而经费不足。所以如何确定合适的样本量呢？在确定样本大小时，你必须知道：\n",
    "- 在一项调查中，待估参数的变异度是多大？\n",
    "- 与待估参数的标准偏差相对应，期望效应的大小是多少呢？\n",
    "\n",
    "考虑这两个问题，就是进行功效分析。这在行为研究中尤其重要，如果没有经过仔细的样本量计算，研究计划就不具有实际可行性。\n",
    "\n",
    "#### 大规模随机双盲对照试验\n",
    "在确定了样本的选择方法以及样本量之后，就要开始收集试验数据啦。在进行试验，收集数据的过程中，要注意的原则就是大规模随机双盲对照，大规模指的是样本量尽可能多，随机是指每一样本进入实验组还是对照组要尽可能做到随机，双盲是指操作试验的人和参与试验的人都并不清楚哪边是对照组，哪边是实验组，所谓的对照就是实验组和对照组之间的对照。"
   ]
  },
  {
   "cell_type": "markdown",
   "metadata": {},
   "source": [
    "# 第六章 单变量的分布\n",
    "## 分布的特征描述\n",
    "### 分布中心\n",
    "1.均值"
   ]
  },
  {
   "cell_type": "code",
   "execution_count": 2,
   "metadata": {},
   "outputs": [
    {
     "data": {
      "text/plain": [
       "4.5"
      ]
     },
     "execution_count": 2,
     "metadata": {},
     "output_type": "execute_result"
    }
   ],
   "source": [
    "import numpy as np\n",
    "from scipy import stats\n",
    "\n",
    "x = np.arange(10)\n",
    "np.mean(x)"
   ]
  },
  {
   "cell_type": "markdown",
   "metadata": {},
   "source": [
    "2.中位数"
   ]
  },
  {
   "cell_type": "code",
   "execution_count": 3,
   "metadata": {},
   "outputs": [
    {
     "data": {
      "text/plain": [
       "4.5"
      ]
     },
     "execution_count": 3,
     "metadata": {},
     "output_type": "execute_result"
    }
   ],
   "source": [
    "np.median(x)"
   ]
  },
  {
   "cell_type": "markdown",
   "metadata": {},
   "source": [
    "3.众数"
   ]
  },
  {
   "cell_type": "code",
   "execution_count": 8,
   "metadata": {},
   "outputs": [
    {
     "data": {
      "text/plain": [
       "ModeResult(mode=array([0]), count=array([4]))"
      ]
     },
     "execution_count": 8,
     "metadata": {},
     "output_type": "execute_result"
    }
   ],
   "source": [
    "stats.mode([0, 1, 2, 3, 5, 7, 8, 9, 0, 3, 1, 0, 0])"
   ]
  },
  {
   "cell_type": "markdown",
   "metadata": {},
   "source": [
    "4.几何均值"
   ]
  },
  {
   "cell_type": "code",
   "execution_count": 10,
   "metadata": {},
   "outputs": [
    {
     "data": {
      "text/plain": [
       "37.992689344834304"
      ]
     },
     "execution_count": 10,
     "metadata": {},
     "output_type": "execute_result"
    }
   ],
   "source": [
    "x = np.arange(1, 101)\n",
    "stats.gmean(x)"
   ]
  },
  {
   "cell_type": "markdown",
   "metadata": {},
   "source": [
    "### 分布变异度\n",
    "1. 极差：最大值和最小值之间的差\n",
    "2. 分位数：等同于排序之后的序数\n",
    "3. 标准差和方差：就不需要多说明了\n",
    "4. 标准误：即统计量的标准差。比如使用样本去统计总体的均值，由于抽样的差异，每一次计算出的样本均值都是不一样的，这些样本均值构成的一组数据的标准差即为样本均值的标准误。对于正态分布总体而言，样本均值的标准误就是样本的标准差$s$除以$\\sqrt{n}$,即\n",
    "$$\n",
    "    SEM = \\frac{s}{\\sqrt{n}}\n",
    "$$\n",
    "如果用100个样本点的话，均值的标准误就是样本标准差的十分之一。\n",
    "5. 置信区间：即待估参数的真实值最可信的取值范围。比如从某一总体中抽取了100组不同的样本，计算出100个样本均值，这些样本均值的均值为0.83，标准差为0.02，假设样本均值服从正态分布，那么总体均值的95.4%置信区间为(0.81,0.85)，即两个标准差的距离。\n"
   ]
  },
  {
   "cell_type": "markdown",
   "metadata": {},
   "source": [
    "### 分布形状\n",
    "1. 位置：刻画一个分布处于哪一个区域，一般包括均值，中位数，众数等刻画指标\n",
    "2. 尺度：尺度参数描述了概率分布的宽度，如果尺度参数比较大，分布就比较宽，反之就比较集中。一般包括方差，标准差，极差\n",
    "3. 形状：刻画分布曲线的形状，一般有两个指标，峰度，刻画了一个分布在中心位置的集中程度，偏度，刻画了一个分布向某个方向偏移的程度。\n",
    "\n",
    "### 重要的概率函数\n",
    "\n",
    "1. 概率密度（质量）函数PDF：这个是常用的，不需要解释\n",
    "2. 累计分布函数CDF：随机采样获得小于某一给定值的概率\n",
    "3. 生存函数SF：随机采样获得大于等于某一给定值的概率\n",
    "4. 分位数函数PPF：CDF的反函数，即根据分位给出相应的分位数\n",
    "5. 逆生存函数，SF的反函数，即根据生存率给出数值。\n",
    "\n",
    "## 离散分布\n",
    "### 伯努利分布\n",
    "### 泊松分布\n",
    "确保能够正确的理解这两种分布！！\n",
    "## 正态分布\n",
    "正态分布的各种属性，大家都很熟悉，就先跳过。\n",
    "## 来自于正态分布的连续型分布\n",
    "### t分布\n",
    "t分布用于解决对总体均值的估计。当总体均值未知的时候，总体方差也一定是未知的，这是因为计算方差需要使用均值。\n",
    "\n",
    "已知总体服从于正态分布，随机抽样得到的样本均值服从于何种分布呢？这需要分两种情况来看，如果一个样本中包含的样本点数量特别多，则样本均值也服从于正态分布，这是根据中心极限定理可以推导出来的，即大量的独立同分布随机变量的平均值趋向于正态分布；但如果样本点数量很少呢，比如只有几个样本点，在这种情况下，统计学家证明了样本均值服从于一个和正态分布很接近，但是要比正态分布尾巴更长一些的分布--t分布。t分布相比于正态分布，多了一个参数，即自由度，如果样本中包含n个样本点，那么这组样本计算出来的均值就服从于自由度为n-1的t分布(计算均值会丢失一个自由度)。当自由度很大时，一般超过25时，就认为t分布和正态分布已经没有区别了。\n",
    "\n",
    "已知小样本条件下样本均值的抽样分布服从于t分布。因为一般书籍中只给出了标准t分布的累计分布函数表，所以要将这一抽样分布转换为标准t分布（即减（总体）均值除方差），即：\n",
    "$$\n",
    "    \\frac{\\bar{x}-\\mu}{s/\\sqrt{n}} = \\frac{\\bar{x}-\\mu}{SEM} \\sim t(n-1)\n",
    "$$\n",
    "当然这里的总体均值$\\mu$是未知的，也是我们希望求解的，所以转换上述公式可以给出$\\mu$的95%置信区间（两个标准差）即：\n",
    "$$\n",
    "    \\mu \\in [\\bar{x}-\\frac{st_{n-1,0.975}}{\\sqrt{n}}, \\bar{x}-\\frac{st_{n-1,0.025}}{\\sqrt{n}}]\n",
    "$$\n",
    "下面是一个代码的案例，假设从一个正态总体中抽取了包含10个样本点的样本，取值为$(1.21, 1.32, 1.31, 1.27, 1.40, 1.21, 1.32, 1.35, 1.28, 1.30)$\n",
    "请问总体均值的95%置信区间为多少？"
   ]
  },
  {
   "cell_type": "code",
   "execution_count": 13,
   "metadata": {},
   "outputs": [
    {
     "name": "stdout",
     "output_type": "stream",
     "text": [
      "总体均值的95%置信区间为[1.257, 1.337]\n"
     ]
    }
   ],
   "source": [
    "# 样本数据\n",
    "sample = (1.21,1.32,1.31,1.27,1.40,1.21,1.32,1.35,1.28,1.30)\n",
    "# 样本均值\n",
    "sample_mean = np.mean(sample)\n",
    "# 样本标准差\n",
    "sample_std = np.std(sample)\n",
    "# 样本量\n",
    "sample_n = len(sample)\n",
    "# 自由度\n",
    "df = sample_n - 1\n",
    "# t分布的0.025分位数\n",
    "q_0025 = stats.t(df).ppf(0.025)\n",
    "# t分布的0.975分位数\n",
    "q_0975 = stats.t(df).ppf(0.975)\n",
    "# 95%置信区间的上界和下界\n",
    "confidence_down = sample_mean - (sample_std * q_0975)/np.sqrt(sample_n)\n",
    "confidence_up = sample_mean - (sample_std * q_0025)/np.sqrt(sample_n)\n",
    "print('总体均值的95%%置信区间为[%.3f, %.3f]' % (confidence_down, confidence_up))"
   ]
  },
  {
   "cell_type": "markdown",
   "metadata": {},
   "source": [
    "这一个结果就说明了总体的均值处于[1.257, 1.337]中的概率约为95%，超出这一范围的概率只有5%。\n",
    "\n",
    "### 卡方分布\n",
    "**定义**：如果一个随机变量服从于标准正态分布，那么n个这样独立的随机变量的平方和就会服从于卡方分布，即\n",
    "$$\n",
    "    \\sum_{i=1}^N X_i^2 \\sim \\mathcal{X}_N^2, \\forall X_i\\sim \\mathcal{N}(0,1)\n",
    "$$\n",
    "\n",
    "举一个例子，一个药品制造商接到一个药品订单，需要发货的药片的标准差为$\\sigma=0.05$。从下一批次的药片开始，$n=13$的随机样本的重量分别为$(3.04, 2.94, 3.01, 3.00, 2.94, 2.91, 3.02, 3.04, 3.09, 2.95, 2.99, 3.10, 3.02)$。请问，这一批次药片的标准差是否超过的准许值呢？\n",
    "\n",
    "在这一问题中，原假设自然是药片的标准差符合要求，是从标准差为0.05的正态总体中抽取的。\n",
    "备择假设就是药片的标准差超过了0.05。\n",
    "\n",
    "在原假设成立的条件下，我们抽取的样本就是服从于正态分布的，均值未知，标准差已知。既然总体均值未知，就使用样本均值来代替总体均值，不过这造成了丢失一个自由度。我们将这些样本减均值除标准差，就会得到一组服从于标准正态分布的样本，当然也是一组随机变量。这一组随机变量的平方和就服从于自由度为n-1的卡方分布。\n",
    "$$\n",
    "    \\mathcal{x}^2=\\sum_{i=1}^{13}[\\frac{x_i-\\bar{x}}{\\sigma}]^2 \\sim \\mathcal{X}_{12}^2 \n",
    "$$"
   ]
  },
  {
   "cell_type": "code",
   "execution_count": 16,
   "metadata": {},
   "outputs": [
    {
     "name": "stdout",
     "output_type": "stream",
     "text": [
      "卡方统计量观测值为：15.9631\n",
      "当前的卡方统计量观测值在自由度为12的卡方分布中的分位为：0.807\n"
     ]
    }
   ],
   "source": [
    "sample = (3.04,2.94,3.01,3.00,2.94,2.91,3.02,3.04,3.09,2.95,2.99,3.10,3.02)\n",
    "sample_mean = np.mean(sample)\n",
    "# 计算出卡方统计量\n",
    "x2 = np.sum(((np.array(sample) - sample_mean) / 0.05)**2)\n",
    "print('卡方统计量观测值为：%.4f' % x2)\n",
    "# 该卡方统计量的观测值在卡方分布中的分位\n",
    "prob = stats.chi2(12).cdf(x2)\n",
    "print('当前的卡方统计量观测值在自由度为12的卡方分布中的分位为：%.3f' % prob)"
   ]
  },
  {
   "cell_type": "markdown",
   "metadata": {},
   "source": [
    "也就是说，如果原假设成立，随机抽取13个样本，计算出相应的卡方统计量之后，超过当前观测值的概率依然有1-0.807=0.193。这说明不能够推翻原假设，即可以认为总体是服从于标准差为0.05的正态分布。\n",
    "\n",
    "如果修改一下该问题，发货的药片要求均值为3.0，标准差为0.05，那么如何检验这批药片是否合格呢？回答这一问题的要分两步，第一步是通过t分布去检验样本的均值是否支持总体均值为3.0，第二步通过卡方分布检验总体标准差是否为0.05。代码如下"
   ]
  },
  {
   "cell_type": "code",
   "execution_count": 17,
   "metadata": {},
   "outputs": [
    {
     "name": "stdout",
     "output_type": "stream",
     "text": [
      "该样本的t统计量观测值为：0.277\n",
      "该样本的t统计量观测值在t分布中的分位为：0.607\n"
     ]
    }
   ],
   "source": [
    "# 如果总体均值为3.0这一假设成立，那么样本均值就服从以3.0为中心，以$0.05/\\sqrt{13}$为标准差的t分布。\n",
    "sample_mean = np.mean(sample)\n",
    "sample_mean_standard = (sample_mean - 3.0) / (0.05/np.sqrt(13))\n",
    "print('该样本的t统计量观测值为：%.3f' % sample_mean_standard)\n",
    "prob = stats.t(13).cdf(sample_mean_standard)\n",
    "print('该样本的t统计量观测值在t分布中的分位为：%.3f' % prob)"
   ]
  },
  {
   "cell_type": "markdown",
   "metadata": {},
   "source": [
    "从统计量观测值在t分布的分位来看，显然不足以推翻原假设。药片的总体均值确实为3.0。值得注意的是，这里由于使用的是总体的均值和标准差，而不是样本的均值和标准差，所以不会丢失自由度，依然为13。对标准差的检验如下"
   ]
  },
  {
   "cell_type": "code",
   "execution_count": 19,
   "metadata": {},
   "outputs": [
    {
     "name": "stdout",
     "output_type": "stream",
     "text": [
      "卡方统计量观测值为：16.0400\n",
      "当前的卡方统计量观测值在自由度为13的卡方分布中的分位为：0.753\n"
     ]
    }
   ],
   "source": [
    "# 计算出卡方统计量\n",
    "x2 = np.sum(((np.array(sample) - 3.0) / 0.05)**2)\n",
    "print('卡方统计量观测值为：%.4f' % x2)\n",
    "# 该卡方统计量的观测值在卡方分布中的分位\n",
    "prob = stats.chi2(13).cdf(x2)\n",
    "print('当前的卡方统计量观测值在自由度为13的卡方分布中的分位为：%.3f' % prob)"
   ]
  },
  {
   "cell_type": "markdown",
   "metadata": {},
   "source": [
    "显然，也是可以通过卡方检验的。\n",
    "### F分布\n",
    "该分布以Ronald Fisher先生的名字命名，他发明了F分布来决定方差分析中的统计量。\n",
    "\n",
    "如果想要检查两个组别是否具有相同的方差，我们就必须计算两组标准差平方的比值：\n",
    "$$\n",
    "    F = \\frac{S_x^2}{S_y^2}\n",
    "$$\n",
    "其中$S_x$就是第一组样本的样本标准差，$S_y$就是第二组样本的样本标准差。这两个样本所对应的总体都是正态分布，在这一条件下，$F$这一统计量就会服从于F分布。由于样本标准差通常和样本量有关系，所以计算出来的F统计量要标注出第一组样本和第二组样本的样本量分别为多少？即两个自由度，不过由于计算样本标准差时需要使用到样本均值，会丢失一个自由度，所以如果第一组样本有n个样本点，第二组样本有m个样本点，那么所构造出来的F统计量自由度即为$(n-1, m-1)$。\n",
    "\n",
    "案例：假设有两种测量角度的方法，对同一个夹角进行反复测量，方法一得到的多次测量结果为：$(20.7,20.3,20.3,20.3,20.7,19.9,19.9,19.9,20.3,20.3,19.7,20.3)$，方法二得到的多次测量结果为：$(19.7,19.4,20.1,18.6,18.8,20.2,18.7,19.0)$\n",
    "那么请问这两种测量方法的波动程度相同吗？"
   ]
  },
  {
   "cell_type": "code",
   "execution_count": 28,
   "metadata": {},
   "outputs": [
    {
     "name": "stdout",
     "output_type": "stream",
     "text": [
      "F统计量的观测值为：0.244\n",
      "F统计量观测值在F分布中的分位为：0.019\n"
     ]
    }
   ],
   "source": [
    "sample_1 = (20.7,20.3,20.3,20.3,20.7,19.9,19.9,19.9,20.3,20.3,19.7,20.3)\n",
    "sample_2 = (19.7,19.4,20.1,18.6,18.8,20.2,18.7,19.0)\n",
    "sample_1_n = len(sample_1)\n",
    "sample_2_n = len(sample_2)\n",
    "sample_1_std = np.std(sample_1, ddof=1)\n",
    "sample_2_std = np.std(sample_2, ddof=1)\n",
    "# F统计量的观测值\n",
    "F_statis = sample_1_std**2 / sample_2_std**2\n",
    "print('F统计量的观测值为：%.3f' % F_statis)\n",
    "# F统计量观测值在F分布中的分位为\n",
    "F_prob = stats.f(sample_1_n-1, sample_2_n-1).cdf(F_statis)\n",
    "print('F统计量观测值在F分布中的分位为：%.3f' % F_prob)"
   ]
  },
  {
   "cell_type": "markdown",
   "metadata": {},
   "source": [
    "因为处于0.019分位，所以可以以95%的统计显著性来说，两个测量方法的方差并不相同。\n",
    "\n",
    "# 第七章 假设检验\n",
    "本章描述了统计数据分析的典型工作流程。应特别注意对数据进行视觉上和定量的正态性检验。接着解释了假设检验的概念和不同类型的错误，并讨论了p值得解释。最后，介绍并解释了灵敏度和特异度的一般检验概念。\n",
    "\n",
    "## 典型分析步骤\n",
    "在“旧时代”（在计算机拥有几乎无限的计算能力之前），数据的统计分析通常仅限于假设检验：你制定一个假设，收集你的数据，然后接受或者拒绝这个假设。由此产生的假设检验构成了迄今为止医学和生命科学中大多数分析的基本框架，而最重要的假设检验将在下面的章节中描述。\n",
    "\n",
    "功能强大的计算机的出现改变了游戏规则。现在，对统计数据的分析师一个高度交互化的过：你查看数据，并生成可以解释你数据的模型。然后确定这些模型的最佳拟合参数，并通常是通过查看残差来检查这些模型。如果你对结果不满意，你可以修改模型来改进模型和数据之间的对应关系；当你满意了，就可以计算模型参数的置信区间，并根据这些值形成解释。我们在第11章介绍这种类型的统计分析。\n",
    "\n",
    "无论哪种情况，我都应该从下列步骤开始。\n",
    "- 视觉上检查一下数据\n",
    "- 找到极端的样本，并仔细检查它们\n",
    "- 确定这些值的数据类型\n",
    "- 如果数据是连续型的，检查它们是否是正态分布\n",
    "- 选择并进行合适的检验，或用基于模型的数据分析方法开始分析\n",
    "\n",
    "### 数据筛选和离群值\n",
    "数据分析的第一步是对数据进行目视检查。我们的视觉系统是非常强大的，如果数据被正确地显示，数据特征的趋势可以清晰可见。此外还要检查第一个和最后一个数值是否已经正常读入了，我们推荐你检查缺失的数据和离群值。\n",
    "\n",
    "离群值没有唯一的定义。然后，对于正态分布的样本，他们通常被定义为数据在离样本均值超过1.5xIQR（4分位数间距），或两个以上的标准偏差以外的数据。离群值常常是由下列两种情况中的一种造成的：它们要么是由于记录中的错误造成的，这种情况下，它们应该被排除在外；要么它们构成了非常重要的有价值的数据点，在这种情况下，它们必须包含在数据分析中。要决定情况属于这两种情况中的哪一种，你必须检查底层的原始数据，以及您的试验计划。如果检测到潜在的问题，那么只有在这种情况下可以删除分析中的异常值。在其他情况下，数据都必须保留！\n",
    "\n",
    "### 正态性检验\n",
    "统计假设检验可分为参数检验和非参数检验。参数检验假定数据可以由一个或者多个参数定义的分布很好地描述，在大多数情况下是通过正态分布来描述的。对于给定的数据集，需要确定并解释该分布的最佳拟合参数和他们的置信区间。\n",
    "\n",
    "然而，该方法只在给定的数据集实际上能够被选中的分布近似的时候才可以工作正常。如果不是这样的话，参数检验的结果会完全错误。这种情况下，就必须使用非参数检验，尽管灵敏度不高，但是正因为如此，它不依赖数据服从特定的分布。\n",
    "\n",
    "1. **概率图**\n",
    "\n",
    "概率图QQ-plot是一种检验某一个数据样本是否与特定概率分布匹配的图形化方法。原理就是将每一分位下数据样本中的分位数和概率分布中的分位数一一匹配，绘制在图表中。举一个例子来说，某一个数据样本中有100个样本点，按从小到大排序之后，排名第3小（即3%分位）的样本点数值为-2.3，而特定分布中3%分位的分位数为-2.5，那么就在图上绘制一个坐标为（-2.5，-2.3）的点。如果数据样本和概率分布是完美匹配的，这些散点就会排布在对角线上。也就是说，散点越贴近对角线，数据和分布就越吻合。下面是一个代码例子。"
   ]
  },
  {
   "cell_type": "code",
   "execution_count": 24,
   "metadata": {},
   "outputs": [
    {
     "data": {
      "image/png": "[encoded data removed]",
      "text/plain": [
       "<matplotlib.figure.Figure at 0x1f669c9f780>"
      ]
     },
     "metadata": {},
     "output_type": "display_data"
    }
   ],
   "source": [
    "import matplotlib.pyplot as plt\n",
    "# 产生一组服从标准正态分布的样本\n",
    "sample_1 = stats.norm.rvs(size=100)\n",
    "# 绘制QQ图，dist参数指明参考分布\n",
    "stats.probplot(sample_1, dist='norm', plot=plt)\n",
    "plt.show()"
   ]
  },
  {
   "cell_type": "code",
   "execution_count": 27,
   "metadata": {},
   "outputs": [
    {
     "data": {
      "image/png": "[encoded data removed]",
      "text/plain": [
       "<matplotlib.figure.Figure at 0x1f670243358>"
      ]
     },
     "metadata": {},
     "output_type": "display_data"
    }
   ],
   "source": [
    "# 产生一组服从卡方分布的样本\n",
    "sample_2 = stats.chi2.rvs(size=100, df=8)\n",
    "# 绘制QQ图\n",
    "stats.probplot(sample_2, dist='norm', plot=plt)\n",
    "plt.show()"
   ]
  },
  {
   "cell_type": "markdown",
   "metadata": {},
   "source": [
    "显然如果抽取样本的分布和对照分布一致的话，散点会就集中于对角线附近，而如果分布不一致的话，散点就不会集中在对角线附近。\n",
    "2. **正态性检验**\n",
    "在正态性检验会出现不同的挑战：有时候只有很少的样本，而其他时候虽然有大量的数据，但是会有一些极端异常的值。为了应对这些不同的情况，我们开发了不同的正态性检验方法。这些正态性评估的检验可以大体分为两类：\n",
    "\n",
    "（1）基于和给定分布比较的检验，常常根据它的CDF来确定。例如Kolmogorov-Smirnov检验，Lilliefors检验，Anderson-Darling检验，Cramer-vonMises准则，Shapiro-Wilk检验和Shapiro-Francia检验。\n",
    "\n",
    "（2）基于样本的描述性统计学检验。例如偏度检验，峰度检验，Jarque-Bera检验，D'Agostino-Pearson omnibus检验等。\n",
    "\n",
    "Python中的指令stats.normaltest(x)使用的是D'Agostino-Pearson omnibus检验。该检验综合了偏度和峰度检验，生成了单一，综合的‘omnibus’统计量。\n"
   ]
  },
  {
   "cell_type": "code",
   "execution_count": 30,
   "metadata": {},
   "outputs": [
    {
     "name": "stderr",
     "output_type": "stream",
     "text": [
      "D:\\anaconda\\lib\\site-packages\\statsmodels\\compat\\pandas.py:56: FutureWarning: The pandas.core.datetools module is deprecated and will be removed in a future version. Please use the pandas.tseries module instead.\n",
      "  from pandas.core import datetools\n"
     ]
    },
    {
     "data": {
      "image/png": "[encoded data removed]",
      "text/plain": [
       "<matplotlib.figure.Figure at 0x1f6700cbac8>"
      ]
     },
     "metadata": {},
     "output_type": "display_data"
    },
    {
     "data": {
      "image/png": "[encoded data removed]",
      "text/plain": [
       "<matplotlib.figure.Figure at 0x1f6726d1b38>"
      ]
     },
     "metadata": {},
     "output_type": "display_data"
    },
    {
     "name": "stdout",
     "output_type": "stream",
     "text": [
      "p-values for all 1000 data points: ----------------\n",
      "Omnibus               0.913684\n",
      "Shapiro-Wilk          0.558346\n",
      "Lilliefors            0.569781\n",
      "Kolmogorov-Smirnov    0.898967\n",
      "dtype: float64\n",
      "p-values for the first 100 data points: ----------------\n",
      "Omnibus               0.004530\n",
      "Shapiro-Wilk          0.047102\n",
      "Lilliefors            0.183717\n",
      "Kolmogorov-Smirnov    0.640677\n",
      "dtype: float64\n",
      "Data are normally distributed\n",
      "0.898966913657769\n"
     ]
    }
   ],
   "source": [
    "'''\n",
    "通过图形化或者量化方式检验一个分布是否服从于正态分布\n",
    "- 对于样本数量较少时（小于50），你应该使用Shapiro-Wilk检验或者normaltest函数\n",
    "- 对于中等数量的样本而言，Lilliefors检验是比较合适的，因为原始的Kolmogorov-Smirnov检验在分布的均值和方差未知时不太可靠。\n",
    "- 对于样本数量较多时（大于300），就应该使用Kolmogorov-Smirnov检验。\n",
    "'''\n",
    "\n",
    "import numpy as np\n",
    "import matplotlib.pyplot as plt\n",
    "import scipy.stats as stats\n",
    "import pandas as pd\n",
    "\n",
    "# additional packages\n",
    "from statsmodels.stats.diagnostic import lilliefors\n",
    "\n",
    "def check_normality():\n",
    "    '''\n",
    "        该函数用于检验某一样本中的数据是否服从于正态分布\n",
    "    '''\n",
    "    \n",
    "    # 设置参数\n",
    "    numData = 1000\n",
    "    myMean = 0\n",
    "    mySD = 3\n",
    "    \n",
    "    # 设置随机种子\n",
    "    np.random.seed(1234)   \n",
    "    \n",
    "    # 生成并展示抽样结果\n",
    "    data = stats.norm.rvs(myMean, mySD, size=numData)\n",
    "    fewData = data[:100]\n",
    "    plt.hist(data)\n",
    "    plt.show()\n",
    "\n",
    "    # --- >>> 开始统计检验 <<< ---\n",
    "    # 图形化检验: 如果散点集中在对角线上，则说明这组样本很符合正态分布\n",
    "    _ = stats.probplot(data, plot=plt, dist='norm')\n",
    "    plt.show()\n",
    "\n",
    "    pVals = pd.Series()\n",
    "    pFewVals = pd.Series()\n",
    "    # scipy模块中的normaltest函数是进行D-Agostino and Pearsons检验，该检验综合计算了峰度，偏度，得到了一个测度正态性的omnibus统计量\n",
    "    _, pVals['Omnibus']    = stats.normaltest(data)\n",
    "    _, pFewVals['Omnibus'] = stats.normaltest(fewData)\n",
    "\n",
    "    # Shapiro-Wilk检验\n",
    "    _, pVals['Shapiro-Wilk']    = stats.shapiro(data)\n",
    "    _, pFewVals['Shapiro-Wilk'] = stats.shapiro(fewData)\n",
    "    \n",
    "    # Lilliefors检验\n",
    "    _, pVals['Lilliefors']    = lilliefors(data)\n",
    "    _, pFewVals['Lilliefors'] = lilliefors(fewData)\n",
    "    \n",
    "    # Kolmogorov-Smirnov检验\n",
    "    _, pVals['Kolmogorov-Smirnov']    = stats.kstest((data-np.mean(data))/np.std(data,ddof=1), 'norm')\n",
    "    _, pFewVals['Kolmogorov-Smirnov'] = stats.kstest((fewData-np.mean(fewData))/np.std(fewData,ddof=1), 'norm')\n",
    "    \n",
    "    print('p-values for all {0} data points: ----------------'.format(len(data)))\n",
    "    print(pVals)\n",
    "    print('p-values for the first 100 data points: ----------------')\n",
    "    print(pFewVals)\n",
    "    \n",
    "    if pVals['Omnibus'] > 0.05:\n",
    "        print('Data are normally distributed')\n",
    "    # --- >>> 检验完成 <<< ---\n",
    "    \n",
    "    return pVals['Kolmogorov-Smirnov']\n",
    "    \n",
    "if __name__ == '__main__':\n",
    "    p = check_normality()    \n",
    "    print(p)"
   ]
  },
  {
   "cell_type": "markdown",
   "metadata": {},
   "source": [
    "可以看出，当使用1000个数据点时，各种检验方法都可以识别出该样本服从于正态分布；但样本量下降到100时，由于随机性的原因，就会出现检测误差。\n",
    "\n",
    "### 转换\n",
    "如果发现数据的分布偏离了正态分布，则可以进行某种转换来重新使数据更加接近正态分布，比较常用的转换方法有对数变换和Cox-Box变换。对数变换适用于对数正态分布的数据，而Cox-Box变换适用于偏态分布。\n",
    "## 假设概念，错误，p值和样本量\n",
    "### 一个例子\n",
    "如果你是一个培训学校的负责人，合同约定学生的平均成绩达到了110分的话，就可以给你发放奖金。根据常识已知，学生的成绩会服从正态分布，那么如果几个学生的平均得分为$(109.4, 76.2, 128.7, 93.7, 85.6, 117.7, 117.2, 87.3, 100.3, 55.1)$，那么是否应该给你发放奖金呢？\n",
    "\n",
    "这个问题的核心在于总体均值为110这一个假设能不能被推翻。如果原假设成立，这组样本的均值就会服从以110为中心，标准误为标准差，自由度为9的t分布。已知样本均值的观测值为97.1，"
   ]
  },
  {
   "cell_type": "code",
   "execution_count": 32,
   "metadata": {},
   "outputs": [
    {
     "name": "stdout",
     "output_type": "stream",
     "text": [
      "t统计量的观测值为：-1.836\n",
      "t统计量观测值的分位数为：0.0498\n"
     ]
    }
   ],
   "source": [
    "sample = (109.4, 76.2, 128.7, 93.7, 85.6, 117.7, 117.2, 87.3, 100.3, 55.1)\n",
    "sample_mean = np.mean(sample)\n",
    "sample_sem = stats.sem(sample)\n",
    "# t统计量观测值\n",
    "t_value = (sample_mean - 110) / sample_sem\n",
    "print('t统计量的观测值为：%.3f' % t_value)\n",
    "# t统计量观测值在t分布中的分位数\n",
    "t_cdf = stats.t(len(sample)-1).cdf(t_value)\n",
    "print('t统计量观测值的分位数为：%.4f' % t_cdf)"
   ]
  },
  {
   "cell_type": "markdown",
   "metadata": {},
   "source": [
    "从单边检验的角度来看，以5%的统计显著性为标准，可以推翻原假设，即充分考虑了成绩的随机性之后，也有足够的理由认为平均成绩是不达标的，奖金不能够发放。\n",
    "### 推广和应用\n",
    "1. **推广**\n",
    "基于前面的这个例子，假设检验的一般步骤包括\n",
    "（1）从总体中抽取一个随机样本\n",
    "（2）构建一个原假设\n",
    "（3）选择一个统计量并计算出来，这个统计量的选择依据是如果原假设成立，这个统计量会服从于某一个确定的分布\n",
    "（4）计算这个统计量的观测值在目标分布中的分位，基于这个分位给出统计显著性水平p值。那么具体而言，如何根据分位计算p值呢？如果是双边检验的话，比如分位是0.02，那么p值就是2*0.02=0.04，比如分位是0.97的话，p值就是2*（1-0.97）=0.06；如果是单边检验的话，当分位为0.02时，p值就是0.02，当分位为0.97时，p值就是1-0.97=0.03。\n",
    "（5）如果p值小于0.05（或者0.01）就可以说有95%（或99%）的把握（或者说以5%（或1%）的统计显著性）推翻原假设，接受备择假设。\n",
    "\n",
    "### p值得解释\n",
    "p值的真实含义是，如果原假设成立的话，出现比当前样本更极端的情况的概率不会超过p。当p值很小时，就说明了原假设成立的条件下，出现当前这么一个样本的可能性已经很低了。我们认为小概率事件不会在一次试验中出现，那么自然就有很大的把握认为是原假设不成立，原假设的反面，也就是备择假设成立。\n",
    "### 错误的类型\n",
    "围绕是否拒绝原假设，就产生了两种类型的错误。（1）一类错误（记作$\\alpha$），指的是在原假设成立的情况下，拒绝了原假设。（2）二类错误（记作$\\beta$），指的是在原假设不成立的情况下，没有拒绝原假设。\n",
    "\n",
    "一类错误的发生概率是很容易衡量的，就是等于p值。这也是p值本身的定义。二类错误发生的概率$\\beta$计算难度较大，我们将一个统计试验的“统计效能”定义为$(1-\\beta)x100$，即可以在多大程度上避免出现二类错误。\n",
    "\n",
    "需要注意的是一类错误发生的概率和二类错误发生的概率并不是互补的，即$\\beta \\ne 1-\\alpha$。\n",
    "### 样本量\n",
    "一个假设检验的敏感度\\效能是指当备择假设为真的时候，该检验正确地拒绝了原假设的概率，也就是$1-\\beta$。决定统计学检验的效能和计算揭示一定大小效应所需要的最小样本量，叫做效能分析。它包括四个因素：\n",
    "\n",
    "（1）$\\alpha$，一类错误的概率\n",
    "\n",
    "（2）$\\beta$，二类错误的概率，相应的效能即$1-\\beta$\n",
    "\n",
    "（3）$d$，效应的大小，即所研究的效应相对样本的标准差$\\sigma$的大小\n",
    "\n",
    "（4）n，样本的大小\n",
    "\n",
    "这四个参数中只要设定3个，剩余的一个就自动生成了。\n",
    "\n",
    "案例1(**单总体偏离检测**)：假设原假设均值为$x_1$，标准差为$\\sigma$，备择假设总体的均值是$x_1+D$，标准差也是$\\sigma$，那么想要检测到这个均值偏离$D$，需要的样本量最小为多少？\n",
    "$$\n",
    "    n = \\frac{(z_{1-\\alpha/2}+z_{1-\\beta})^2}{d^2}\n",
    "$$\n",
    "在公式里面$z$代表的是标准正态分布，$z_x$代表的是标准正态分布的$x$分位数。而$d=\\frac{D}{\\sigma}$，我们知道在$D$不变的情况下，标准差$\\sigma$越大，这种偏离被检测到的难度就越大，反之，标准差$\\sigma$不变的情况下，偏离$D$越大，就越容易被检测到，所以$d$代表了偏离效应的相对大小，$D$代表的是偏离效应的绝对大小。\n",
    "\n",
    "尽管不能给出这个公式的详细推导原理，不过可以这样直观理解，即：$z_{1-\\alpha/2}$代表在双边检验下要足够拒绝原假设，$z_{1-\\beta}$代表在单边检验下检验效能要足够的大，而偏离效应的相对大小与所需要的样本量则成反比关系。\n",
    "\n",
    "案例2(**双总体偏离检测**)：为了找到两组正态分布均值之间的差异，它们的标准差分别为$\\sigma_1,\\sigma_2$，为了检测出绝对偏离$D$，则每一组的最小样本量为\n",
    "$$\n",
    "    n_1=n_2 = \\frac{(z_{1-\\alpha/2} + z_{1-\\beta})^2 + (\\sigma_1^2+\\sigma_2^2)}{D^2}\n",
    "$$\n",
    "\n",
    "**Python解决方案-双总体效能分析**\n",
    "\n",
    "Python中statsmodels里面有一个函数可以快速进行效能分析。由于效能分析中有四个参数，给定其中三个，剩下的一个就可以自动计算出来。比如"
   ]
  },
  {
   "cell_type": "code",
   "execution_count": 39,
   "metadata": {},
   "outputs": [
    {
     "name": "stdout",
     "output_type": "stream",
     "text": [
      "效应为0.5，一类错误概率为0.05，效能为0.8\n",
      "相应的样本量为：63.8\n",
      "一类错误概率为0.05，效能为0.8，一号总体样本为25个\n",
      "该设定能够识别的最小相对效应为：0.809\n"
     ]
    }
   ],
   "source": [
    "from statsmodels.stats import power\n",
    "# 效应为0.5，一类错误概率为0.05，效能为0.8\n",
    "print('效应为0.5，一类错误概率为0.05，效能为0.8')\n",
    "nobs = power.tt_ind_solve_power(effect_size=0.5, alpha=0.05, power=0.8)\n",
    "print('相应的样本量为：%.1f' % nobs)\n",
    "print('一类错误概率为0.05，效能为0.8，一号总体样本为25个')\n",
    "effect_size = power.tt_ind_solve_power(alpha=0.05, power=0.8, nobs1=25)\n",
    "print('该设定能够识别的最小相对效应为：%.3f' % effect_size)"
   ]
  },
  {
   "cell_type": "markdown",
   "metadata": {},
   "source": [
    "`tt_ind_solve_power`这一函数一共有6个参数：\n",
    "\n",
    "- effect_size: 两均值之间的相对效应$d$，它等于绝对效应$D$除以标准差，这个函数里面假设两个总体的标准差是相同的。\n",
    "- nobs1：一号总体的样本数量，二号总体的样本数量有该参数和ratio参数来控制，nobs2=nobs1\\*ratio\n",
    "- alpha：一类错误发生的概率，也就是统计显著性水平\n",
    "- power：统计效能，也就是1-二类错误发生的概率\n",
    "- ratio：一号总体和二号总体样本数之间的比例，可选参数，默认值为1\n",
    "- alternative：字符串，可以选的参数值包括\"two_sided\",\"larger\",\"smaller\"，默认值是\"two_sided\"。该参数用于说明统计效能指的是双边检验还是单边检验。\n",
    "\n",
    "前四个参数必选其中3个，空缺一个，后面两个参数是可选参数。"
   ]
  },
  {
   "cell_type": "code",
   "execution_count": null,
   "metadata": {},
   "outputs": [],
   "source": []
  }
 ],
 "metadata": {
  "kernelspec": {
   "display_name": "Python 3",
   "language": "python",
   "name": "python3"
  },
  "language_info": {
   "codemirror_mode": {
    "name": "ipython",
    "version": 3
   },
   "file_extension": ".py",
   "mimetype": "text/x-python",
   "name": "python",
   "nbconvert_exporter": "python",
   "pygments_lexer": "ipython3",
   "version": "3.6.4"
  }
 },
 "nbformat": 4,
 "nbformat_minor": 2
}
